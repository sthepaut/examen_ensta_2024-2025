{
  "cells": [
    {
      "cell_type": "markdown",
      "metadata": {
        "id": "ZKT6D89AhEkG"
      },
      "source": [
        "# IA313 - Maintenance Prédictive - Examen, partie pratique\n",
        "\n",
        "Documents autorisés. L'examen est long et certaines questions sont plus dures que d'autres, n'hésitez pas à sélectionner vos questions. Expliquez vos choix et raisonnements, vos explications comptent autant que vos réalisations (50% - 50%)."
      ]
    },
    {
      "cell_type": "code",
      "execution_count": null,
      "metadata": {
        "id": "Yoi9jTNyTzqo"
      },
      "outputs": [],
      "source": [
        "# Si vous êtes sur colab -> cliquer sur le menu à gauche pour créer un dossier data\n",
        "# N'oubliez pas de redémarrer votre kernel si vous installez un package\n",
        "from google.colab import files\n",
        "files.upload() # allez chercher Examen_dataset_1.1.csv"
      ]
    },
    {
      "cell_type": "markdown",
      "metadata": {
        "id": "O-rKzBatJaih"
      },
      "source": [
        "## 1. Lois de vie & stratégies de maintenance.\n",
        "\n",
        "Chargez les données de Examen_dataset_1.csv"
      ]
    },
    {
      "cell_type": "code",
      "execution_count": null,
      "metadata": {
        "id": "I8pev-K71fHg"
      },
      "outputs": [],
      "source": [
        "import pandas as pd\n",
        "data = pd.read_csv(\"data/Examen_dataset_1.1.csv\", sep=',')\n",
        "data.head()\n"
      ]
    },
    {
      "cell_type": "markdown",
      "metadata": {
        "id": "-O4GaMWBJwDr"
      },
      "source": [
        "2.1 Visualisez les données, proposez 2 ou 3 figures et justifiez vos choix.\n"
      ]
    },
    {
      "cell_type": "code",
      "execution_count": null,
      "metadata": {
        "id": "c7S2a_OXJ3Iq"
      },
      "outputs": [],
      "source": [
        "# Votre code pour les visualisations"
      ]
    },
    {
      "cell_type": "markdown",
      "metadata": {
        "id": "NeF1vLECTzqq"
      },
      "source": [
        "Vos commentaires sur les visualisations :\n"
      ]
    },
    {
      "cell_type": "markdown",
      "source": [],
      "metadata": {
        "id": "YCpUKLf_Wk_8"
      }
    },
    {
      "cell_type": "markdown",
      "source": [
        "2.2 Comparez deux modèles de votre choix pour prédire les durées de vie.\n",
        "Notes : vous pouvez utiliser toutes les librairies à votre disposition, un soin tout particulier est à apporter aux commentaires plus qu'au code lui-même. (choix des méthodes, choix de la métrique de comparaison)."
      ],
      "metadata": {
        "id": "2us56f6UUaE3"
      }
    },
    {
      "cell_type": "code",
      "execution_count": null,
      "metadata": {
        "id": "W5feyfxRTzqq"
      },
      "outputs": [],
      "source": [
        "# Votre code pour les estimations\n",
        "# Méthode 1 : ...\n",
        "\n",
        "\n",
        "\n",
        "# Méthode 2: ...\n",
        "\n",
        "\n",
        "\n",
        "# Comparaison"
      ]
    },
    {
      "cell_type": "markdown",
      "metadata": {
        "id": "rbcmcG9pJwGa"
      },
      "source": [
        "Vos commentaires sur les résultats obtenus :\n"
      ]
    },
    {
      "cell_type": "markdown",
      "source": [],
      "metadata": {
        "id": "rR1exFJQWnrl"
      }
    },
    {
      "cell_type": "markdown",
      "metadata": {
        "id": "USVq5LxpJxqD"
      },
      "source": [
        "2.3 Sachant qu'une panne de l'équipement vous coûte 1700€, une réparation 150€. Vous avez la possibilité de mettre un capteur de maintenance prédictive précis à p=0.86, mais qui ne détecte la panne que si elle survient après les 400 premiers cycles. On fera l'hypothèse que le capteur est infaillible, qu'il ne coûte rien et qu'il ne consomme rien. Utilisez un des modèles appris dans les questions précédentes pour modéliser la loi de vie.\n",
        "Quelle stratégie de maintenance préconisez-vous sur un an, deux ans, 10 ans ? Commentez."
      ]
    },
    {
      "cell_type": "code",
      "execution_count": null,
      "metadata": {
        "id": "Cedx676CKkiL"
      },
      "outputs": [],
      "source": [
        "# Votre code"
      ]
    },
    {
      "cell_type": "markdown",
      "metadata": {
        "id": "P_Sw70LrJ1Us"
      },
      "source": [
        "Votre réponse."
      ]
    },
    {
      "cell_type": "markdown",
      "metadata": {
        "id": "KBeDJeGIhIUU"
      },
      "source": [
        "## 2. Prédiction de durée de vie restante"
      ]
    },
    {
      "cell_type": "markdown",
      "metadata": {
        "id": "7Yc6ikF0MGHC"
      },
      "source": [
        "Chargez les données Examen_dataset_2.3.feather. On rappelle que HPT et LPT sont deux parties d'un moteur d'avion, et que eff_mod représente les rendements de chacune de ces parties."
      ]
    },
    {
      "cell_type": "code",
      "execution_count": null,
      "metadata": {
        "id": "kCY8Fjmif37D"
      },
      "outputs": [],
      "source": [
        "# Si vous êtes sur colab\n",
        "from google.colab import files\n",
        "files.upload() # Examen_dataset_2.3.feather"
      ]
    },
    {
      "cell_type": "code",
      "execution_count": null,
      "metadata": {
        "id": "2aeCsEu8lYJp"
      },
      "outputs": [],
      "source": [
        "import pandas as pd\n",
        "filename = 'data/Examen_dataset_2.3.feather'\n",
        "df = pd.read_feather(filename)\n",
        "df.describe()"
      ]
    },
    {
      "cell_type": "markdown",
      "metadata": {
        "id": "NztlzjjFlah9"
      },
      "source": [
        "2.1 Affichez la valeur finale de HPT_eff_mod et LPT_eff_mod. Qu'en pensez-vous ?"
      ]
    },
    {
      "cell_type": "code",
      "execution_count": null,
      "metadata": {
        "id": "zuNdyU6ImRoO"
      },
      "outputs": [],
      "source": [
        "# Votre code"
      ]
    },
    {
      "cell_type": "markdown",
      "metadata": {
        "id": "KrkRHo5-mRxF"
      },
      "source": [
        "Vos commentaires."
      ]
    },
    {
      "cell_type": "markdown",
      "metadata": {
        "id": "TeTChwz6nHKu"
      },
      "source": [
        "2.2 Tracez la dégradation du HPT en fonction de la dégradation LPT pour chaque moteur. Qu'en pensez-vous ?"
      ]
    },
    {
      "cell_type": "code",
      "execution_count": null,
      "metadata": {
        "id": "P_J2HtQwnGRl"
      },
      "outputs": [],
      "source": [
        "# Votre code"
      ]
    },
    {
      "cell_type": "markdown",
      "metadata": {
        "id": "83R47x_OnWoG"
      },
      "source": [
        "Vos commentaires."
      ]
    },
    {
      "cell_type": "markdown",
      "metadata": {
        "id": "8wuRdpKgnd8k"
      },
      "source": [
        "2.3 Vous allez vouloir prédire les rendements HPT et LPT et fonction des autres variables, sauf la consommation carburant. Coupez votre base de données en train / validation / test d'une manière pertinente."
      ]
    },
    {
      "cell_type": "code",
      "execution_count": null,
      "metadata": {
        "id": "ibNOyQ2On7F9"
      },
      "outputs": [],
      "source": [
        "# Votre code"
      ]
    },
    {
      "cell_type": "markdown",
      "metadata": {
        "id": "lTfmyJxcn7Uk"
      },
      "source": [
        "2.4 Apprenez un modèle qui lie les variables données par les capteurs sauf la consommation carburant (Wf), et les valeurs de rendements (HPT, LPT). Calculez la RMSE pour chacun des rendements."
      ]
    },
    {
      "cell_type": "code",
      "execution_count": null,
      "metadata": {
        "id": "2v6u5C3EokB0"
      },
      "outputs": [],
      "source": [
        "# Code"
      ]
    },
    {
      "cell_type": "markdown",
      "metadata": {
        "id": "HIUzioJzokRl"
      },
      "source": [
        "2.5 Estimez la consommation carburant en fonction des rendements. Comparez avec la consommation carburant estimée en fonction des estimations de rendements renvoyées par votre modèle de la question 2.4. Commentez"
      ]
    },
    {
      "cell_type": "markdown",
      "metadata": {
        "id": "c1eTY81eoyaF"
      },
      "source": [
        "Votre réponse."
      ]
    },
    {
      "cell_type": "code",
      "execution_count": null,
      "metadata": {
        "id": "ZzKddoHTozdY"
      },
      "outputs": [],
      "source": [
        "# Votre code"
      ]
    },
    {
      "cell_type": "markdown",
      "metadata": {
        "id": "gHiWvx9a_okD"
      },
      "source": [
        "## 3. Nettoyage & sélection de données\n",
        "Chargez les données Examen_dataset_3.0.feather"
      ]
    },
    {
      "cell_type": "code",
      "execution_count": null,
      "metadata": {
        "id": "14YxUgrIg3Fz"
      },
      "outputs": [],
      "source": [
        "# Si vous êtes sur colab\n",
        "from google.colab import files\n",
        "files.upload() # Examen_dataset_3.3.feather"
      ]
    },
    {
      "cell_type": "code",
      "execution_count": null,
      "metadata": {
        "id": "MSJ1HRyI1ZlA"
      },
      "outputs": [],
      "source": [
        "import pandas as pd\n",
        "filename = 'data/Examen_dataset_3.3.feather'\n",
        "df = pd.read_feather(filename)\n",
        "df.describe()"
      ]
    },
    {
      "cell_type": "markdown",
      "metadata": {
        "id": "HFwxMPDD1aJA"
      },
      "source": [
        "3.1 Voyez-vous un ou des problèmes dans ces données ?\n"
      ]
    },
    {
      "cell_type": "code",
      "execution_count": null,
      "metadata": {
        "id": "zoljUGR4trbk"
      },
      "outputs": [],
      "source": [
        "# Votre code"
      ]
    },
    {
      "cell_type": "markdown",
      "metadata": {
        "id": "PAbJ-qGZtnur"
      },
      "source": [
        "Votre réponse"
      ]
    },
    {
      "cell_type": "markdown",
      "metadata": {
        "id": "E8-bnfhxtvkj"
      },
      "source": [
        "3.2 Etudiez la corrélation entre les variables. Commentez votre résultat.\n"
      ]
    },
    {
      "cell_type": "code",
      "execution_count": null,
      "metadata": {
        "id": "Ye6kiWm3yz3z"
      },
      "outputs": [],
      "source": [
        "# Votre code"
      ]
    },
    {
      "cell_type": "markdown",
      "metadata": {
        "id": "IWEEkSikyz9t"
      },
      "source": [
        "Votre réponse."
      ]
    },
    {
      "cell_type": "markdown",
      "metadata": {
        "id": "1VGwkrLwtwlk"
      },
      "source": [
        "3.3 Retirez 3% des données avec la méthode de détection d'anomalies de votre choix. Commentez votre résultat."
      ]
    },
    {
      "cell_type": "code",
      "execution_count": null,
      "metadata": {
        "id": "MLKmaltAzQXb"
      },
      "outputs": [],
      "source": [
        "# Votre code"
      ]
    },
    {
      "cell_type": "markdown",
      "metadata": {
        "id": "ztXUWZCGzRVz"
      },
      "source": [
        "Votre réponse."
      ]
    },
    {
      "cell_type": "markdown",
      "metadata": {
        "id": "VlGDfMSjAOlL"
      },
      "source": [
        "## 4. Outils de diagnostiques pour la maintenance\n",
        "\n",
        "Nous étudions ici un robot distributeur de pizza.\n",
        "Il a 3 pannes distinctes:\n",
        "- problème de nourriture (food_ok=0 si failure)\n",
        "- problème de robot (robotic_arm_ok=0 si failure)\n",
        "- problème de pilote (pilote_ok=0 si failure)\n",
        "\n",
        "Vous pouvez poser 3 questions :\n",
        "- y-a-t-il tous les ingrédients (question_ingredients_ok=1 si oui) ?\n",
        "- le bras du robot est-il en panne (question_arm_working=1 si oui) ?\n",
        "- l'écran affiche-t-il un code d'erreur (question_screen_ok=1 si oui) ?\n",
        "\n",
        "Vous pouvez faire 3 actions :\n",
        "- réparer le robot (action_repair_robotic_arm_is_success=1 si succès)\n",
        "- mettre des ingrédients (action_add_ingredients_is_success=1 si succès)\n",
        "- reboot (action_reboot_is_success=1 si succès)\n",
        "\n",
        "Nous utiliserons le package bnlearn, comme dans le TP5.\n",
        "\n",
        "Le graphe proposé est le suivant :"
      ]
    },
    {
      "cell_type": "code",
      "execution_count": null,
      "metadata": {
        "id": "nolV_TuITzqv"
      },
      "outputs": [],
      "source": [
        "#n'oubliez pas de redémarrer votre kernel. Attention, vos variables seront reset, seules vos sorties seront conservées.\n",
        "!pip install bnlearn==0.8.2 # You can choose any bnlearn but be aware some versions are bugged."
      ]
    },
    {
      "cell_type": "code",
      "execution_count": null,
      "metadata": {
        "id": "0sKC9XJAzXSy"
      },
      "outputs": [],
      "source": [
        "import bnlearn\n",
        "edges = [('food_ok', 'robotic_arm_ok'),\n",
        "         ('robotic_arm_ok', 'pilote_ok'),\n",
        "         ('food_ok', 'pilote_ok'),\n",
        "         ('robotic_arm_ok', 'question_arm_working'),\n",
        "         ('food_ok', 'question_ingredients_ok'),\n",
        "         ('robotic_arm_ok', 'question_screen_ok'),\n",
        "         ('pilote_ok', 'question_screen_ok'),\n",
        "         ('food_ok', 'question_screen_ok'),\n",
        "         ('pilote_ok', 'action_repair_robotic_arm_is_success'),\n",
        "         ('pilote_ok', 'action_add_ingredients_is_success'),\n",
        "         ('pilote_ok', 'action_reboot_is_success'),\n",
        "         ('food_ok', 'action_repair_robotic_arm_is_success'),\n",
        "         ('food_ok', 'action_add_ingredients_is_success'),\n",
        "         ('food_ok', 'action_reboot_is_success'),\n",
        "         ('robotic_arm_ok', 'action_repair_robotic_arm_is_success'),\n",
        "         ('robotic_arm_ok', 'action_add_ingredients_is_success'),\n",
        "         ('robotic_arm_ok', 'action_reboot_is_success'),\n",
        "         ]\n",
        "DAG = bnlearn.make_DAG(edges)"
      ]
    },
    {
      "cell_type": "markdown",
      "metadata": {
        "id": "aZhHNA_NbNXP"
      },
      "source": [
        "Chargez les données 'Examen_dataset_4.0.csv'"
      ]
    },
    {
      "cell_type": "code",
      "execution_count": null,
      "metadata": {
        "id": "td2Wxpn5rPSy"
      },
      "outputs": [],
      "source": [
        "# Si vous êtes sur colab\n",
        "from google.colab import files\n",
        "files.upload() # Examen_dataset_4.0.csv"
      ]
    },
    {
      "cell_type": "code",
      "execution_count": null,
      "metadata": {
        "id": "tmtqty5nbN22"
      },
      "outputs": [],
      "source": [
        "import pandas as pd\n",
        "dfa = pd.read_csv('data/Examen_dataset_4.0.csv', sep=';', index_col=0)\n",
        "dfa.head()"
      ]
    },
    {
      "cell_type": "markdown",
      "metadata": {
        "id": "QiwG-UBeZpo-"
      },
      "source": [
        "4.1 Apprenez les paramètres du réseau bayésien avec la méthode de maximum de vraisemblance. Commentez."
      ]
    },
    {
      "cell_type": "markdown",
      "metadata": {
        "id": "U2YTw_vGb7vn"
      },
      "source": [
        "Votre réponse."
      ]
    },
    {
      "cell_type": "markdown",
      "metadata": {
        "id": "-rWCyoWxzX6d"
      },
      "source": [
        "4.2 Quelle est la probabilité d'avoir chacune des pannes ?"
      ]
    },
    {
      "cell_type": "code",
      "execution_count": null,
      "metadata": {
        "id": "pFyEO-2lZums"
      },
      "outputs": [],
      "source": [
        "# Votre code"
      ]
    },
    {
      "cell_type": "markdown",
      "metadata": {
        "id": "vL_5XnkncDuF"
      },
      "source": [
        "Votre réponse."
      ]
    },
    {
      "cell_type": "markdown",
      "metadata": {
        "id": "ugT7EufKZute"
      },
      "source": [
        "4.3 Sachant que la réponse à \"question_screen_ok\" est 1, quelle est la probabilité d'avoir un manque de nourriture ?"
      ]
    },
    {
      "cell_type": "code",
      "execution_count": null,
      "metadata": {
        "id": "uXeoEUsfZ5CR"
      },
      "outputs": [],
      "source": [
        "# Votre code"
      ]
    },
    {
      "cell_type": "markdown",
      "metadata": {
        "id": "3EAMvoaUcBAU"
      },
      "source": [
        "Votre réponse."
      ]
    },
    {
      "cell_type": "markdown",
      "metadata": {
        "id": "qUQD3ADeZ5RX"
      },
      "source": [
        "4.4 Dans un rendez-vous avec votre client, celui-ci vous signale que sa machine affiche souvent un code d'erreur, mais qu'il ne vous appelle pas dans ces cas là car le robot fonctionne malgré tout. Que devriez-vous faire ?"
      ]
    },
    {
      "cell_type": "markdown",
      "metadata": {
        "id": "FVsVittGZ8DX"
      },
      "source": [
        "Votre réponse."
      ]
    },
    {
      "cell_type": "markdown",
      "metadata": {
        "id": "clfYPh-1Z6Ro"
      },
      "source": [
        "Vous avez comme données de coût de maintenance les propriétés suivantes :\n",
        "- acheter des ingrédients coûte 250€\n",
        "- mettre les ingrédients dans la machine prend 1h\n",
        "- envoyer le robot en réparation coûte 1000€ prend 3 jours\n",
        "- rebooter coûte 0€ mais immobilise la machine pour 6h\n",
        "\n",
        "4.5 Quelle question posez vous à un autre client, sachant que celui-ci a appelé et vous indique que son écran affiche une erreur ? Commentez votre démarche."
      ]
    },
    {
      "cell_type": "code",
      "execution_count": null,
      "metadata": {
        "id": "Kz19sfYGaaYc"
      },
      "outputs": [],
      "source": [
        "# Votre code"
      ]
    },
    {
      "cell_type": "markdown",
      "metadata": {
        "id": "Cr631njUcGJm"
      },
      "source": [
        "Votre réponse."
      ]
    }
  ],
  "metadata": {
    "colab": {
      "provenance": []
    },
    "kernelspec": {
      "display_name": "Python 3",
      "language": "python",
      "name": "python3"
    },
    "language_info": {
      "codemirror_mode": {
        "name": "ipython",
        "version": 3
      },
      "file_extension": ".py",
      "mimetype": "text/x-python",
      "name": "python",
      "nbconvert_exporter": "python",
      "pygments_lexer": "ipython3",
      "version": "3.8.5"
    }
  },
  "nbformat": 4,
  "nbformat_minor": 0
}